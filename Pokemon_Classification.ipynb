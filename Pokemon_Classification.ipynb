{
 "cells": [
  {
   "cell_type": "code",
   "execution_count": null,
   "metadata": {},
   "outputs": [],
   "source": []
  },
  {
   "cell_type": "code",
   "execution_count": null,
   "metadata": {},
   "outputs": [],
   "source": []
  },
  {
   "cell_type": "code",
   "execution_count": 1,
   "metadata": {},
   "outputs": [
    {
     "name": "stderr",
     "output_type": "stream",
     "text": [
      "Using TensorFlow backend.\n"
     ]
    }
   ],
   "source": [
    "import numpy as np\n",
    "from matplotlib import pyplot as plt\n",
    "%matplotlib inline\n",
    "import pandas as pd\n",
    "import cv2\n",
    "import os\n",
    "from pathlib import Path\n",
    "from keras.preprocessing import image\n",
    "import random"
   ]
  },
  {
   "cell_type": "code",
   "execution_count": 2,
   "metadata": {},
   "outputs": [],
   "source": [
    "df = pd.read_csv(\"Dataset/Train/train.csv\")"
   ]
  },
  {
   "cell_type": "code",
   "execution_count": 3,
   "metadata": {},
   "outputs": [
    {
     "data": {
      "text/html": [
       "<div>\n",
       "<style scoped>\n",
       "    .dataframe tbody tr th:only-of-type {\n",
       "        vertical-align: middle;\n",
       "    }\n",
       "\n",
       "    .dataframe tbody tr th {\n",
       "        vertical-align: top;\n",
       "    }\n",
       "\n",
       "    .dataframe thead th {\n",
       "        text-align: right;\n",
       "    }\n",
       "</style>\n",
       "<table border=\"1\" class=\"dataframe\">\n",
       "  <thead>\n",
       "    <tr style=\"text-align: right;\">\n",
       "      <th></th>\n",
       "      <th>ImageId</th>\n",
       "      <th>NameOfPokemon</th>\n",
       "    </tr>\n",
       "  </thead>\n",
       "  <tbody>\n",
       "    <tr>\n",
       "      <th>0</th>\n",
       "      <td>296.jpg</td>\n",
       "      <td>Pikachu</td>\n",
       "    </tr>\n",
       "    <tr>\n",
       "      <th>1</th>\n",
       "      <td>297.jpg</td>\n",
       "      <td>Pikachu</td>\n",
       "    </tr>\n",
       "    <tr>\n",
       "      <th>2</th>\n",
       "      <td>298.jpg</td>\n",
       "      <td>Pikachu</td>\n",
       "    </tr>\n",
       "    <tr>\n",
       "      <th>3</th>\n",
       "      <td>299.jpg</td>\n",
       "      <td>Pikachu</td>\n",
       "    </tr>\n",
       "    <tr>\n",
       "      <th>4</th>\n",
       "      <td>300.jpg</td>\n",
       "      <td>Pikachu</td>\n",
       "    </tr>\n",
       "  </tbody>\n",
       "</table>\n",
       "</div>"
      ],
      "text/plain": [
       "   ImageId NameOfPokemon\n",
       "0  296.jpg       Pikachu\n",
       "1  297.jpg       Pikachu\n",
       "2  298.jpg       Pikachu\n",
       "3  299.jpg       Pikachu\n",
       "4  300.jpg       Pikachu"
      ]
     },
     "execution_count": 3,
     "metadata": {},
     "output_type": "execute_result"
    }
   ],
   "source": [
    "df.head()"
   ]
  },
  {
   "cell_type": "code",
   "execution_count": 4,
   "metadata": {},
   "outputs": [
    {
     "name": "stdout",
     "output_type": "stream",
     "text": [
      "Dataset/Train/Images/.DS_Store\n",
      "0\n",
      "Dataset/Train/Images/Pikachu\n",
      "101\n",
      "Dataset/Train/Images/Charmander\n"
     ]
    },
    {
     "name": "stderr",
     "output_type": "stream",
     "text": [
      "/anaconda3/lib/python3.7/site-packages/PIL/Image.py:968: UserWarning: Palette images with Transparency   expressed in bytes should be converted to RGBA images\n",
      "  ' expressed in bytes should be converted ' +\n"
     ]
    },
    {
     "name": "stdout",
     "output_type": "stream",
     "text": [
      "102\n",
      "Dataset/Train/Images/Bulbasaur\n",
      "101\n"
     ]
    }
   ],
   "source": [
    "p = Path(\"./Dataset/Train/Images/\")\n",
    "\n",
    "dirs = p.glob(\"*\")\n",
    "\n",
    "# for d in dirs:\n",
    "#     print(d)\n",
    "\n",
    "image_data = []\n",
    "labels = []\n",
    "\n",
    "#Optional\n",
    "image_paths = []\n",
    "\n",
    "label_dict = {\"Pikachu\":0,\"Bulbasaur\":1,\"Charmander\":2}\n",
    "label2pokemon = {0:\"Pikachu\",1:\"Bulbasaur\",2:\"Charmander\"}\n",
    "\n",
    "for folder_dir in dirs:\n",
    "    label = str(folder_dir).split(\"/\")[-1]\n",
    "    \n",
    "    cnt = 0\n",
    "    print(folder_dir)\n",
    "    \n",
    "    #Iterate over folder_dir and pick all images of the pokemen\n",
    "    for img_path in folder_dir.glob(\"*.jpg\"):\n",
    "        img = image.load_img(img_path,target_size=(40,40))\n",
    "        img_array = image.img_to_array(img)\n",
    "        image_data.append(img_array)\n",
    "        labels.append(label_dict[label])\n",
    "        cnt += 1\n",
    "        \n",
    "    print(cnt)"
   ]
  },
  {
   "cell_type": "code",
   "execution_count": 5,
   "metadata": {},
   "outputs": [
    {
     "name": "stdout",
     "output_type": "stream",
     "text": [
      "304\n",
      "304\n"
     ]
    }
   ],
   "source": [
    "print(len(image_data))\n",
    "print(len(labels))"
   ]
  },
  {
   "cell_type": "code",
   "execution_count": 6,
   "metadata": {},
   "outputs": [],
   "source": [
    "random.seed(10)\n",
    "\n",
    "X = np.array(image_data)\n",
    "Y = np.array(labels)\n",
    "\n",
    "from sklearn.utils import shuffle\n",
    "X,Y = shuffle(X,Y,random_state=2)\n",
    "\n",
    "X = X/255.0"
   ]
  },
  {
   "cell_type": "code",
   "execution_count": 7,
   "metadata": {},
   "outputs": [
    {
     "name": "stdout",
     "output_type": "stream",
     "text": [
      "(304, 4800)\n",
      "(304,)\n"
     ]
    }
   ],
   "source": [
    "X.shape = (304,4800)\n",
    "\n",
    "print(X.shape)\n",
    "print(Y.shape)"
   ]
  },
  {
   "cell_type": "code",
   "execution_count": null,
   "metadata": {},
   "outputs": [],
   "source": []
  },
  {
   "cell_type": "code",
   "execution_count": 8,
   "metadata": {},
   "outputs": [],
   "source": [
    "def drawImg(img,label):\n",
    "    plt.title(label2pokemon[label])\n",
    "    plt.imshow(img)\n",
    "    plt.style.use(\"seaborn\")\n",
    "    plt.axis(\"off\")\n",
    "    plt.show()"
   ]
  },
  {
   "cell_type": "code",
   "execution_count": 9,
   "metadata": {},
   "outputs": [
    {
     "data": {
      "image/png": "[encoded data removed]",
      "text/plain": [
       "<Figure size 432x288 with 9 Axes>"
      ]
     },
     "metadata": {
      "needs_background": "light"
     },
     "output_type": "display_data"
    }
   ],
   "source": [
    "plt.figure()\n",
    "\n",
    "for i in range(1,10):\n",
    "    plt.subplot(2,5,i+1)\n",
    "    img = X[i].reshape(40,40,3)\n",
    "    label = Y[i]\n",
    "    plt.title(label2pokemon[label])\n",
    "    plt.imshow(img)\n",
    "    plt.style.use(\"seaborn\")\n",
    "    plt.axis(\"off\")\n",
    "plt.show()"
   ]
  },
  {
   "cell_type": "code",
   "execution_count": null,
   "metadata": {},
   "outputs": [],
   "source": []
  },
  {
   "cell_type": "code",
   "execution_count": null,
   "metadata": {},
   "outputs": [],
   "source": []
  },
  {
   "cell_type": "code",
   "execution_count": 10,
   "metadata": {},
   "outputs": [
    {
     "name": "stdout",
     "output_type": "stream",
     "text": [
      "(243, 4800) (243,)\n",
      "(61, 4800) (61,)\n"
     ]
    }
   ],
   "source": [
    "split = int(X.shape[0]*.8)\n",
    "\n",
    "X_ = np.array(X)\n",
    "Y_ = np.array(Y)\n",
    "\n",
    "#Training Set\n",
    "X = X_[:split,:]\n",
    "Y = Y_[:split]\n",
    "\n",
    "#Test Set\n",
    "XTest = X_[split:,:]\n",
    "YTest = Y_[split:]\n",
    "\n",
    "print(X.shape,Y.shape)\n",
    "print(XTest.shape,YTest.shape)"
   ]
  },
  {
   "cell_type": "code",
   "execution_count": 11,
   "metadata": {},
   "outputs": [],
   "source": [
    "class NeuralNetwork:\n",
    "    \n",
    "    def __init__(self,input_size,layers,output_size):\n",
    "        np.random.seed(0)\n",
    "        \n",
    "        model = {} #Dictionary\n",
    "        \n",
    "        #First Layer\n",
    "        model['W1'] = np.random.randn(input_size,layers[0])\n",
    "        model['b1'] = np.zeros((1,layers[0]))\n",
    "        \n",
    "        #Second Layer\n",
    "        model['W2'] = np.random.randn(layers[0],layers[1])\n",
    "        model['b2'] = np.zeros((1,layers[1]))\n",
    "        \n",
    "        #Third/Output Layer\n",
    "        model['W3'] = np.random.randn(layers[1],output_size)\n",
    "        model['b3'] = np.zeros((1,output_size))\n",
    "        \n",
    "        self.model = model\n",
    "        self.activation_outputs = None\n",
    "    \n",
    "    def forward(self,x):\n",
    "        \n",
    "        W1,W2,W3 = self.model['W1'],self.model['W2'],self.model['W3']\n",
    "        b1, b2, b3 = self.model['b1'],self.model['b2'],self.model['b3']\n",
    "        \n",
    "        z1 = np.dot(x,W1) + b1\n",
    "        a1 = np.tanh(z1) \n",
    "        \n",
    "        z2 = np.dot(a1,W2) + b2\n",
    "        a2 = np.tanh(z2)\n",
    "        \n",
    "        z3 = np.dot(a2,W3) + b3\n",
    "        y_ = softmax(z3)\n",
    "        \n",
    "        self.activation_outputs = (a1,a2,y_)\n",
    "        return y_\n",
    "        \n",
    "    def backward(self,x,y,learning_rate=0.001):\n",
    "        W1,W2,W3 = self.model['W1'],self.model['W2'],self.model['W3']\n",
    "        b1, b2, b3 = self.model['b1'],self.model['b2'],self.model['b3']\n",
    "        m = x.shape[0]\n",
    "        \n",
    "        a1,a2,y_ = self.activation_outputs\n",
    "        \n",
    "        delta3 = y_ - y\n",
    "        dw3 = np.dot(a2.T,delta3)\n",
    "        db3 = np.sum(delta3,axis=0)\n",
    "        \n",
    "        delta2 = (1-np.square(a2))*np.dot(delta3,W3.T)\n",
    "        dw2 = np.dot(a1.T,delta2)\n",
    "        db2 = np.sum(delta2,axis=0)\n",
    "        \n",
    "        delta1 = (1-np.square(a1))*np.dot(delta2,W2.T)\n",
    "        dw1 = np.dot(X.T,delta1)\n",
    "        db1 = np.sum(delta1,axis=0)\n",
    "        \n",
    "        \n",
    "        #Update the Model Parameters using Gradient Descent\n",
    "        self.model[\"W1\"]  -= learning_rate*dw1\n",
    "        self.model['b1']  -= learning_rate*db1\n",
    "        \n",
    "        self.model[\"W2\"]  -= learning_rate*dw2\n",
    "        self.model['b2']  -= learning_rate*db2\n",
    "        \n",
    "        self.model[\"W3\"]  -= learning_rate*dw3\n",
    "        self.model['b3']  -= learning_rate*db3\n",
    "        \n",
    "        # :)\n",
    "        \n",
    "    def predict(self,x):\n",
    "        y_out = self.forward(x)\n",
    "        return np.argmax(y_out,axis=1)\n",
    "    \n",
    "    def summary(self):\n",
    "        W1,W2,W3 = self.model['W1'],self.model['W2'],self.model['W3']\n",
    "        a1,a2,y_ = self.activation_outputs\n",
    "        \n",
    "        print(\"W1 \",W1.shape)\n",
    "        print(\"A1 \",a1.shape)\n",
    "\n",
    "def softmax(a):\n",
    "    e_pa = np.exp(a) #Vector\n",
    "    ans = e_pa/np.sum(e_pa,axis=1,keepdims=True)\n",
    "    return ans"
   ]
  },
  {
   "cell_type": "code",
   "execution_count": 12,
   "metadata": {},
   "outputs": [],
   "source": [
    "def loss(y_oht,p):\n",
    "    l = -np.mean(y_oht*np.log(p))\n",
    "    return l\n",
    "\n",
    "def one_hot(y,depth):\n",
    "    \n",
    "    m = y.shape[0]\n",
    "    y_oht = np.zeros((m,depth))\n",
    "    y_oht[np.arange(m),y] = 1\n",
    "    return y_oht"
   ]
  },
  {
   "cell_type": "code",
   "execution_count": 13,
   "metadata": {},
   "outputs": [],
   "source": [
    "def train(X,Y,model,epochs,learning_rate,logs=True):\n",
    "    training_loss = []\n",
    "    \n",
    "    classes = len(np.unique(Y))\n",
    "    Y_OHT = one_hot(Y,classes)\n",
    "    \n",
    "    for ix in range(epochs):\n",
    "        \n",
    "        Y_ = model.forward(X)\n",
    "        l = loss(Y_OHT,Y_)\n",
    "        \n",
    "        model.backward(X,Y_OHT,learning_rate)\n",
    "        training_loss.append(l)\n",
    "        if(logs and ix%50==0):\n",
    "            print(\"Epoch %d Loss %.4f\"%(ix,l))\n",
    "            \n",
    "    \n",
    "    return training_loss"
   ]
  },
  {
   "cell_type": "code",
   "execution_count": 14,
   "metadata": {},
   "outputs": [],
   "source": [
    "model = NeuralNetwork(input_size=4800,layers=[100,50],output_size=3)"
   ]
  },
  {
   "cell_type": "code",
   "execution_count": 15,
   "metadata": {},
   "outputs": [
    {
     "name": "stdout",
     "output_type": "stream",
     "text": [
      "(243, 4800)\n",
      "(61, 4800)\n"
     ]
    }
   ],
   "source": [
    "X = X.reshape(X.shape[0],-1)\n",
    "print(X.shape)\n",
    "\n",
    "XTest = XTest.reshape(XTest.shape[0],-1)\n",
    "print(XTest.shape)"
   ]
  },
  {
   "cell_type": "code",
   "execution_count": 16,
   "metadata": {},
   "outputs": [
    {
     "name": "stdout",
     "output_type": "stream",
     "text": [
      "Epoch 0 Loss 2.9323\n",
      "Epoch 50 Loss 0.1979\n",
      "Epoch 100 Loss 0.0954\n",
      "Epoch 150 Loss 0.0471\n",
      "Epoch 200 Loss 0.0355\n",
      "Epoch 250 Loss 0.0286\n",
      "Epoch 300 Loss 0.0245\n",
      "Epoch 350 Loss 0.0212\n",
      "Epoch 400 Loss 0.0179\n",
      "Epoch 450 Loss 0.0158\n"
     ]
    }
   ],
   "source": [
    "l = train(X,Y,model,500,0.0002)"
   ]
  },
  {
   "cell_type": "code",
   "execution_count": 17,
   "metadata": {},
   "outputs": [
    {
     "name": "stdout",
     "output_type": "stream",
     "text": [
      "Train Acc 0.9959\n",
      "Test Acc 0.5574\n"
     ]
    }
   ],
   "source": [
    "def getAccuracy(X,Y,model):\n",
    "    outputs = model.predict(X)\n",
    "    acc = np.sum(outputs==Y)/Y.shape[0]\n",
    "    return acc\n",
    "    \n",
    "print(\"Train Acc %.4f\"%getAccuracy(X,Y,model))\n",
    "print(\"Test Acc %.4f\"%getAccuracy(XTest,YTest,model))"
   ]
  },
  {
   "cell_type": "code",
   "execution_count": null,
   "metadata": {},
   "outputs": [],
   "source": []
  },
  {
   "cell_type": "code",
   "execution_count": null,
   "metadata": {},
   "outputs": [],
   "source": []
  },
  {
   "cell_type": "code",
   "execution_count": 19,
   "metadata": {},
   "outputs": [],
   "source": [
    "dfTest = pd.read_csv(\"Dataset/Test/test.csv\")"
   ]
  },
  {
   "cell_type": "code",
   "execution_count": 20,
   "metadata": {},
   "outputs": [
    {
     "data": {
      "text/html": [
       "<div>\n",
       "<style scoped>\n",
       "    .dataframe tbody tr th:only-of-type {\n",
       "        vertical-align: middle;\n",
       "    }\n",
       "\n",
       "    .dataframe tbody tr th {\n",
       "        vertical-align: top;\n",
       "    }\n",
       "\n",
       "    .dataframe thead th {\n",
       "        text-align: right;\n",
       "    }\n",
       "</style>\n",
       "<table border=\"1\" class=\"dataframe\">\n",
       "  <thead>\n",
       "    <tr style=\"text-align: right;\">\n",
       "      <th></th>\n",
       "      <th>ImageId</th>\n",
       "    </tr>\n",
       "  </thead>\n",
       "  <tbody>\n",
       "    <tr>\n",
       "      <th>0</th>\n",
       "      <td>1106.jpg</td>\n",
       "    </tr>\n",
       "    <tr>\n",
       "      <th>1</th>\n",
       "      <td>2236.jpg</td>\n",
       "    </tr>\n",
       "    <tr>\n",
       "      <th>2</th>\n",
       "      <td>1131.jpg</td>\n",
       "    </tr>\n",
       "    <tr>\n",
       "      <th>3</th>\n",
       "      <td>2221.jpg</td>\n",
       "    </tr>\n",
       "    <tr>\n",
       "      <th>4</th>\n",
       "      <td>2011.jpg</td>\n",
       "    </tr>\n",
       "  </tbody>\n",
       "</table>\n",
       "</div>"
      ],
      "text/plain": [
       "    ImageId\n",
       "0  1106.jpg\n",
       "1  2236.jpg\n",
       "2  1131.jpg\n",
       "3  2221.jpg\n",
       "4  2011.jpg"
      ]
     },
     "execution_count": 20,
     "metadata": {},
     "output_type": "execute_result"
    }
   ],
   "source": [
    "dfTest.head()"
   ]
  },
  {
   "cell_type": "code",
   "execution_count": 21,
   "metadata": {},
   "outputs": [],
   "source": [
    "saved_column = dfTest.ImageId"
   ]
  },
  {
   "cell_type": "code",
   "execution_count": 23,
   "metadata": {},
   "outputs": [],
   "source": [
    "Answer_labels = []\n",
    "\n",
    "for i in range(len(saved_column)):\n",
    "    path = Path(\"./Dataset/Test/Images/\" + saved_column[i])\n",
    "    img = image.load_img(path,target_size=(40,40))\n",
    "    img_array = image.img_to_array(img)\n",
    "    x = np.array(img_array)\n",
    "    x.shape = (1,4800)\n",
    "    ans = model.predict(x)\n",
    "    \n",
    "    Answer_labels.append(label2pokemon[ans[0]])\n",
    "#     print(label2pokemon[ans[0]])\n",
    "#     drawImg(img,ans[0])"
   ]
  },
  {
   "cell_type": "code",
   "execution_count": 24,
   "metadata": {},
   "outputs": [
    {
     "name": "stdout",
     "output_type": "stream",
     "text": [
      "['Bulbasaur' 'Charmander' 'Bulbasaur' 'Charmander' 'Charmander'\n",
      " 'Bulbasaur' 'Charmander' 'Bulbasaur' 'Bulbasaur' 'Charmander' 'Bulbasaur'\n",
      " 'Bulbasaur' 'Bulbasaur' 'Bulbasaur' 'Charmander' 'Pikachu' 'Charmander'\n",
      " 'Charmander' 'Pikachu' 'Charmander' 'Bulbasaur' 'Bulbasaur' 'Charmander'\n",
      " 'Charmander' 'Pikachu' 'Charmander' 'Bulbasaur' 'Bulbasaur' 'Pikachu'\n",
      " 'Charmander' 'Bulbasaur' 'Charmander' 'Charmander' 'Bulbasaur' 'Pikachu'\n",
      " 'Bulbasaur' 'Bulbasaur' 'Bulbasaur' 'Charmander' 'Bulbasaur' 'Bulbasaur'\n",
      " 'Bulbasaur' 'Charmander' 'Bulbasaur' 'Charmander' 'Bulbasaur'\n",
      " 'Charmander' 'Bulbasaur' 'Charmander' 'Charmander' 'Charmander'\n",
      " 'Charmander' 'Charmander' 'Bulbasaur' 'Charmander' 'Bulbasaur'\n",
      " 'Charmander' 'Charmander' 'Charmander' 'Charmander' 'Charmander'\n",
      " 'Charmander' 'Charmander' 'Bulbasaur' 'Pikachu' 'Bulbasaur' 'Bulbasaur'\n",
      " 'Bulbasaur' 'Charmander' 'Bulbasaur' 'Bulbasaur' 'Bulbasaur' 'Bulbasaur'\n",
      " 'Charmander' 'Charmander' 'Pikachu' 'Pikachu' 'Charmander' 'Bulbasaur'\n",
      " 'Bulbasaur' 'Pikachu' 'Bulbasaur' 'Charmander' 'Charmander' 'Charmander'\n",
      " 'Bulbasaur' 'Bulbasaur' 'Charmander' 'Charmander' 'Bulbasaur' 'Bulbasaur'\n",
      " 'Charmander' 'Bulbasaur' 'Charmander' 'Charmander' 'Charmander'\n",
      " 'Charmander' 'Bulbasaur' 'Charmander' 'Charmander' 'Bulbasaur'\n",
      " 'Bulbasaur' 'Bulbasaur' 'Charmander' 'Charmander' 'Charmander'\n",
      " 'Charmander' 'Pikachu' 'Charmander' 'Bulbasaur' 'Pikachu' 'Charmander'\n",
      " 'Charmander' 'Charmander' 'Pikachu' 'Pikachu' 'Pikachu' 'Pikachu'\n",
      " 'Bulbasaur' 'Charmander' 'Charmander' 'Bulbasaur' 'Pikachu']\n"
     ]
    }
   ],
   "source": [
    "print(np.array(Answer_labels))"
   ]
  },
  {
   "cell_type": "code",
   "execution_count": 25,
   "metadata": {},
   "outputs": [],
   "source": [
    "Result = []\n",
    "row_data = np.array(saved_column)\n",
    "Answer_labels = np.array(Answer_labels)\n",
    "for i in range(Answer_labels.shape[0]):\n",
    "    res = [row_data[i],Answer_labels[i]]\n",
    "    Result.append(res)\n"
   ]
  },
  {
   "cell_type": "code",
   "execution_count": 26,
   "metadata": {},
   "outputs": [],
   "source": [
    "pd.DataFrame(Result, columns = [\"ImageId\",\"NameOfPokemon\"]).to_csv('./Priyam_Garg_Submission.csv',header = True, index = False)"
   ]
  },
  {
   "cell_type": "code",
   "execution_count": null,
   "metadata": {},
   "outputs": [],
   "source": []
  }
 ],
 "metadata": {
  "kernelspec": {
   "display_name": "Python 3",
   "language": "python",
   "name": "python3"
  },
  "language_info": {
   "codemirror_mode": {
    "name": "ipython",
    "version": 3
   },
   "file_extension": ".py",
   "mimetype": "text/x-python",
   "name": "python",
   "nbconvert_exporter": "python",
   "pygments_lexer": "ipython3",
   "version": "3.7.3"
  }
 },
 "nbformat": 4,
 "nbformat_minor": 2
}
